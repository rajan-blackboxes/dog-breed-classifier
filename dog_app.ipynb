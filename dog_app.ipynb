version https://git-lfs.github.com/spec/v1
oid sha256:4ca5a0eca6a2cf459054bab5550aea9c936f9f34dcf5f24b11cd6ae1065e5de3
size 2954942
